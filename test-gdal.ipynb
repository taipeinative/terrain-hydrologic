{
 "cells": [
  {
   "cell_type": "markdown",
   "metadata": {},
   "source": [
    "# GDAL Test\n",
    "\n",
    "A simple GDAL with Python tutorial taken from [Python GDAL/OGR Cookbook](https://pcjericks.github.io/py-gdalogr-cookbook/index.html) website. You can use them to check your GDAL conditions and learn some basic usages."
   ]
  },
  {
   "cell_type": "markdown",
   "metadata": {},
   "source": [
    "## Manipulating Vector Data\n",
    "\n",
    "Use the class `osgeo.ogr` to manipulate the vector data. "
   ]
  },
  {
   "cell_type": "code",
   "execution_count": 1,
   "metadata": {},
   "outputs": [
    {
     "name": "stdout",
     "output_type": "stream",
     "text": [
      "Presedential Office Building: POINT (121.512 25.04 0)\n",
      "Ketagalan Boulevard:          LINESTRING (121.513 25.04 0,121.516 25.04 0,121.518 25.039 0)\n",
      "Old Taipei City:              LINEARRING (121.51 25.048 0,121.52 25.046 0,121.516 25.035 0,121.512 25.035 0,121.511 25.036 0,121.507 25.037 0)\n",
      "Full collection:              GEOMETRYCOLLECTION (POINT (121.512 25.04 0),LINESTRING (121.513 25.04 0,121.516 25.04 0,121.518 25.039 0),LINEARRING (121.51 25.048 0,121.52 25.046 0,121.516 25.035 0,121.512 25.035 0,121.511 25.036 0,121.507 25.037 0))\n"
     ]
    }
   ],
   "source": [
    "from osgeo import ogr\n",
    "\n",
    "# Create `ogr.Geometry` object\n",
    "l0 = ogr.Geometry(ogr.wkbPoint)                 # Point\n",
    "l1 = ogr.Geometry(ogr.wkbLineString)            # LineString\n",
    "l2 = ogr.Geometry(ogr.wkbLinearRing)            # Polygon\n",
    "c0 = ogr.Geometry(ogr.wkbGeometryCollection)    # Geometry Collection\n",
    "\n",
    "# Add features\n",
    "l0.AddPoint(121.512, 25.04)\n",
    "\n",
    "l1.AddPoint(121.513, 25.04)\n",
    "l1.AddPoint(121.516, 25.04)\n",
    "l1.AddPoint(121.518, 25.039)\n",
    "\n",
    "l2.AddPoint(121.51 , 25.048)\n",
    "l2.AddPoint(121.52 , 25.046)\n",
    "l2.AddPoint(121.516, 25.035)\n",
    "l2.AddPoint(121.512, 25.035)\n",
    "l2.AddPoint(121.511, 25.036)\n",
    "l2.AddPoint(121.507, 25.037)\n",
    "\n",
    "c0.AddGeometry(l0)\n",
    "c0.AddGeometry(l1)\n",
    "c0.AddGeometry(l2)\n",
    "\n",
    "# Print the results in WKT format\n",
    "print(f'Presedential Office Building: {l0.ExportToWkt()}')\n",
    "print(f'Ketagalan Boulevard:          {l1.ExportToWkt()}')\n",
    "print(f'Old Taipei City:              {l2.ExportToWkt()}')\n",
    "print(f'Full collection:              {c0.ExportToWkt()}')"
   ]
  },
  {
   "cell_type": "markdown",
   "metadata": {},
   "source": [
    "## Manipulating Raster Data\n",
    "\n",
    "Use the class `gdal.Dataset` to manipulate the data."
   ]
  },
  {
   "cell_type": "code",
   "execution_count": 2,
   "metadata": {},
   "outputs": [
    {
     "name": "stdout",
     "output_type": "stream",
     "text": [
      "Dataset object:     <osgeo.gdal.Dataset; proxy of <Swig Object of type 'GDALDatasetShadow *' at 0x0000022D3288A6A0> >\n",
      "Dataset metadata:   {'TIFFTAG_SOFTWARE': 'CartoMod', 'TIFFTAG_DATETIME': '2024:08:23 11:56:28', 'AREA_OR_POINT': 'Area'}\n",
      "Dataset projection: PROJCS[\"WGS 84 / UTM zone 51N\",GEOGCS[\"WGS 84\",DATUM[\"WGS_1984\",SPHEROID[\"WGS 84\",637   ...(omitted)\n",
      "Dataset band count: 1\n",
      "---\n",
      "Band object:        <osgeo.gdal.Band; proxy of <Swig Object of type 'GDALRasterBandShadow *' at 0x0000022D60ED7870> >\n",
      "Band size:          [4096, 4096]\n",
      "Band block size:    [4096, 1]\n",
      "Band data type:     Int16\n",
      "Band statistics:    [305.0, 1046.0, 611.3790889977139, 172.8463197491493]\n",
      "Band nodata value:  -32768.0\n",
      "Band unit name:     (Unset)\n",
      "Band data array:    [853 854 856 858 859 861 863] (excerpt)\n"
     ]
    }
   ],
   "source": [
    "from osgeo import gdal\n",
    "import numpy as np\n",
    "\n",
    "# Allow GDAL to throw exceptions\n",
    "gdal.UseExceptions()\n",
    "\n",
    "# Create `gdal.Dataset` object; use the keyword with to close the file after manipulation.\n",
    "with gdal.Open('src\\Sample.tif') as d0:\n",
    "\n",
    "    # Get the metadata (as a `dict` object) of the Dataset\n",
    "    d0_data = d0.GetMetadata()\n",
    "\n",
    "    # Get the projection of the Dataset\n",
    "    d0_projection = d0.GetProjection()\n",
    "\n",
    "    # Get the number of raster bands in the Dataset\n",
    "    d0_band_count = d0.RasterCount\n",
    "\n",
    "    # Get the `gdal.Band` object; note that the band index is 1-based.\n",
    "    b1 = d0.GetRasterBand(1)\n",
    "\n",
    "    # Get the size of the band in x and y dimensions\n",
    "    b1_size = [b1.XSize, b1.YSize]\n",
    "\n",
    "    # Get the block size in x and y dimensions (as a `list` object, [x, y]); note this is consistent with the implicit StripPerImage (SPI) property and the TIFF Tag 278 (RowsPerStrip).\n",
    "    b1_block_size = b1.GetBlockSize()\n",
    "\n",
    "    # Get the data type of the band\n",
    "    b1_type = gdal.GetDataTypeName(b1.DataType)\n",
    "\n",
    "    # Get the statistics of the band (as a `list` object, [min, max, mean, std])\n",
    "    b1_statistics = b1.ComputeStatistics(approx_ok = False)\n",
    "\n",
    "    # Get the designated nodata value, if set.\n",
    "    b1_nodata = b1.GetNoDataValue()\n",
    "\n",
    "    # Get the name of the unit of the band, if set.\n",
    "    b1_unit = b1.GetUnitType()\n",
    "\n",
    "    # Get the raw data array\n",
    "    b1_array = b1.ReadAsArray().flatten()[:7]\n",
    "\n",
    "    d0_str = f'{d0}'\n",
    "    b1_str = f'{b1}'\n",
    "\n",
    "# Print the results\n",
    "print(f'Dataset object:     {d0_str}')\n",
    "print(f'Dataset metadata:   {d0_data}')\n",
    "print(f'Dataset projection: {d0_projection[:85] + \"   ...(omitted)\"}')\n",
    "print(f'Dataset band count: {d0_band_count}')\n",
    "print('---')\n",
    "print(f'Band object:        {b1_str}')\n",
    "print(f'Band size:          {b1_size}')\n",
    "print(f'Band block size:    {b1_block_size}')\n",
    "print(f'Band data type:     {b1_type}')\n",
    "print(f'Band statistics:    {b1_statistics}')\n",
    "print(f'Band nodata value:  {\"(Unset)\" if b1_nodata == \"\" else b1_nodata}')\n",
    "print(f'Band unit name:     {\"(Unset)\" if b1_unit == \"\" else b1_unit}')\n",
    "print(f'Band data array:    {b1_array} (excerpt)')\n"
   ]
  }
 ],
 "metadata": {
  "kernelspec": {
   "display_name": "tahm",
   "language": "python",
   "name": "python3"
  },
  "language_info": {
   "codemirror_mode": {
    "name": "ipython",
    "version": 3
   },
   "file_extension": ".py",
   "mimetype": "text/x-python",
   "name": "python",
   "nbconvert_exporter": "python",
   "pygments_lexer": "ipython3",
   "version": "3.11.9"
  }
 },
 "nbformat": 4,
 "nbformat_minor": 2
}
