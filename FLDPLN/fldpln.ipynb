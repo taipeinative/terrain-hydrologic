{
 "cells": [
  {
   "cell_type": "markdown",
   "metadata": {},
   "source": [
    "### Import packages"
   ]
  },
  {
   "cell_type": "code",
   "execution_count": 1,
   "metadata": {},
   "outputs": [],
   "source": [
    "import os\n",
    "\n",
    "# Import fldpln_py and matlab packages created by the MATLAB Compiler\n",
    "import fldpln_py\n",
    "from   fldpln.model import *\n",
    "import matlab"
   ]
  },
  {
   "cell_type": "markdown",
   "metadata": {},
   "source": [
    "### Create FLDPLN Model object"
   ]
  },
  {
   "cell_type": "code",
   "execution_count": 2,
   "metadata": {},
   "outputs": [
    {
     "name": "stdout",
     "output_type": "stream",
     "text": [
      "Initialize the FLDPLN model ...\n",
      "Done!\n"
     ]
    }
   ],
   "source": [
    "model = FLDPLN()"
   ]
  },
  {
   "cell_type": "markdown",
   "metadata": {},
   "source": [
    "### Generate segments"
   ]
  },
  {
   "cell_type": "code",
   "execution_count": 3,
   "metadata": {},
   "outputs": [
    {
     "name": "stdout",
     "output_type": "stream",
     "text": [
      "Generate segments ...\n",
      "Done!\n"
     ]
    }
   ],
   "source": [
    "# GenerateSegments(Flow direction BIL,\n",
    "#                  Flow accumulation BIL,\n",
    "#                  Stream minimum catchment in sq. miles,\n",
    "#                  Minimum catchment in sq. miles to segment streams,\n",
    "#                  Segment length in miles,\n",
    "#                  Output directory)\n",
    "\n",
    "# Generate the file `str_segid.bil`.\n",
    "\n",
    "model.GenerateSegments('data\\\\bil\\\\fdr.bil', 'data\\\\bil\\\\fac.bil', 50, 25, 2, 'data\\\\tmp\\\\segment')"
   ]
  },
  {
   "cell_type": "markdown",
   "metadata": {},
   "source": [
    "### Create segment-based library"
   ]
  },
  {
   "cell_type": "code",
   "execution_count": 6,
   "metadata": {},
   "outputs": [
    {
     "name": "stdout",
     "output_type": "stream",
     "text": [
      "Create segment-based library ...\n",
      "Done!\n"
     ]
    }
   ],
   "source": [
    "# CreateSegmentLibrary(DEM BIL directory,\n",
    "#                      Segment BIL directory,\n",
    "#                      Spatial mask,\n",
    "#                      Stream shapefile,\n",
    "#                      Minimum stage of the inundated height in meter,\n",
    "#                      Maximum stage of the inundated height in meter,\n",
    "#                      Vertical height step of the DEM,\n",
    "#                      Maximum height to cease flooding,\n",
    "#                      Output directory,\n",
    "#                      Run memory type,\n",
    "#                      Parallelization parameters)\n",
    "\n",
    "shp_file = {'file': 'data\\\\tmp\\\\segment\\\\segment_simple.shp'}\n",
    "shp_file['segid_field'] = 'grid_code'\n",
    "shp_file['seg_fldmx_field'] = ''\n",
    "\n",
    "para = {'type': 'parfeval'}\n",
    "para['numcores'] = 10 # Comment out to use all cores\n",
    "para['worker_type'] = 'Processes'\n",
    "\n",
    "# Generate the files `h15_dh1_seg###.mat`\n",
    "\n",
    "model.CreateSegmentLibrary('data\\\\bil', 'data\\\\tmp\\\\segment', '', shp_file, 0.01, 15, 1, 0, 'data\\\\tmp\\\\segment-raw-library', 'ram', para)"
   ]
  },
  {
   "cell_type": "markdown",
   "metadata": {},
   "source": [
    "### Format segment-based library for tiling"
   ]
  },
  {
   "cell_type": "code",
   "execution_count": 4,
   "metadata": {},
   "outputs": [
    {
     "name": "stdout",
     "output_type": "stream",
     "text": [
      "Reformat segment-based library ...\n",
      "Done!\n"
     ]
    }
   ],
   "source": [
    "# FormatSegmentLKibrary(DEM BIL directory,\n",
    "#                       Segment BIL directory,\n",
    "#                       Raw segment library directory,\n",
    "#                       Output directory)\n",
    "\n",
    "# Generate the files: `fldpln_segment###.mat`, `segment_info.csv`, `fsp_info.csv` & `lib.prj`\n",
    "\n",
    "model.FormatSegmentLibrary('data\\\\bil', 'data\\\\tmp\\\\segment', 'data\\\\tmp\\\\segment-raw-library', 'data\\\\tmp\\\\segment-library')"
   ]
  },
  {
   "cell_type": "markdown",
   "metadata": {},
   "source": [
    "### Assign stream order to segments"
   ]
  },
  {
   "cell_type": "code",
   "execution_count": 5,
   "metadata": {},
   "outputs": [
    {
     "name": "stdout",
     "output_type": "stream",
     "text": [
      "Generate stream order ...\n",
      "Error occurred during program execution\\n:An error occurred when evaluating the result from a function. Details: \n",
      "  File C:\\Users\\Daniel\\AppData\\Local\\Temp\\Daniel\\mcrCache24.1\\fldpln0\\fldpln_py\\rp_generate_stream_order.m, line 55, in rp_generate_stream_order\n",
      "Unable to find file or directory 'data\\tmp\\segment/fsp_info.mat'.\n",
      "\n"
     ]
    }
   ],
   "source": [
    "# GenerateStreamOrder(DEM BIL directory,\n",
    "#                     Segment BIL directory,\n",
    "#                     Stream shapefile)\n",
    "\n",
    "model.GenerateStreamOrder('data\\\\bil', 'data\\\\tmp\\\\segment', 'data\\\\tmp\\\\segment\\\\segment_simple.shp')"
   ]
  }
 ],
 "metadata": {
  "kernelspec": {
   "display_name": "fldpln",
   "language": "python",
   "name": "python3"
  },
  "language_info": {
   "codemirror_mode": {
    "name": "ipython",
    "version": 3
   },
   "file_extension": ".py",
   "mimetype": "text/x-python",
   "name": "python",
   "nbconvert_exporter": "python",
   "pygments_lexer": "ipython3",
   "version": "3.11.9"
  }
 },
 "nbformat": 4,
 "nbformat_minor": 2
}
