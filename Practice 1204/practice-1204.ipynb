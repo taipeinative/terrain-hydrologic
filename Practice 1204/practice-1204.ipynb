{
 "cells": [
  {
   "cell_type": "code",
   "execution_count": 2,
   "metadata": {},
   "outputs": [],
   "source": [
    "import imageio\n",
    "from landlab import RasterModelGrid, imshow_grid\n",
    "from landlab.components import DepressionFinderAndRouter, FlowAccumulator, LinearDiffuser, StreamPowerEroder\n",
    "from matplotlib import pyplot as plt\n",
    "import numpy as np\n",
    "import os\n",
    "import rasterio\n",
    "from rasterio.plot import show\n",
    "import re"
   ]
  },
  {
   "cell_type": "code",
   "execution_count": null,
   "metadata": {},
   "outputs": [],
   "source": [
    "mg: RasterModelGrid\n",
    "with rasterio.open(r'..\\src\\SanFernando.tif') as f:\n",
    "    z_grd = f.read(1)\n",
    "    z_grd[z_grd == -9999] = 0\n",
    "\n",
    "cell_size = f.transform.a\n",
    "dem_width = f.width\n",
    "dem_height = f.height\n",
    "\n",
    "mg = RasterModelGrid((dem_width, dem_height), cell_size, (f.bounds[0], f.bounds[1]))\n",
    "zr = mg.add_zeros('topographic__elevation', at = 'node', clobber = True)\n",
    "zr += z_grd[::-1, :].ravel(order = 'F')\n",
    "\n",
    "mg.imshow('topographic__elevation', cmap='terrain')\n",
    "\n",
    "def show_plot_2d(val_grd: np.ndarray,\n",
    "                 z_label = 'Elevation (m)',\n",
    "                 title = 'DEM',\n",
    "                 cmap = 'terrain'):\n",
    "    fig, ax = plt.subplots()\n",
    "    im = ax.imshow(val_grd, cmap = cmap)\n",
    "    cb = fig.colorbar(im, ax = ax)\n",
    "    cb.set_label(z_label)\n",
    "    ax.set(title = title, xlabel = 'X', ylabel = 'Y')\n",
    "    plt.show()\n",
    "\n",
    "show_plot_2d(z_grd)\n"
   ]
  },
  {
   "cell_type": "code",
   "execution_count": null,
   "metadata": {},
   "outputs": [],
   "source": [
    "# Terrain parameters\n",
    "k_hs = 0.05         # m^2/yr\n",
    "k_sp = 1e-5         # Depending on m_sp and n_sp\n",
    "m_sp = 0.5          # Exponent on drainage area in Stream Power equation\n",
    "n_sp = 1            # Exponent on slope in Stream Power equation\n",
    "uplift_rate = 0.001 # m/yr\n",
    "\n",
    "dt = 10000          # Time step, yr\n",
    "tmax = 1e6          # Total model run time, yr\n",
    "t_series = np.arange(0, tmax, dt)\n",
    "total_time = 0"
   ]
  },
  {
   "cell_type": "code",
   "execution_count": null,
   "metadata": {},
   "outputs": [],
   "source": [
    "fr = FlowAccumulator(mg)\n",
    "spr = StreamPowerEroder( mg, K_sp=k_sp, m_sp=m_sp, n_sp=n_sp, threshold_sp=0.0)\n",
    "dfn = LinearDiffuser(mg, linear_diffusivity=k_hs, deposit=False)\n",
    "df = DepressionFinderAndRouter(mg)"
   ]
  },
  {
   "cell_type": "code",
   "execution_count": null,
   "metadata": {},
   "outputs": [],
   "source": [
    "if not os.path.exists('result'):\n",
    "    os.makedirs('result')\n",
    "\n",
    "for time in t_series:\n",
    "    zr[mg.core_nodes] += uplift_rate * dt\n",
    "    dfn.run_one_step(dt)\n",
    "    fr.run_one_step()\n",
    "    df.map_depressions()\n",
    "    spr.run_one_step(dt)\n",
    "    total_time += dt\n",
    "    print(f'\\r{total_time}', end = '')\n",
    "\n",
    "    original_array= mg.at_node[\"topographic__elevation\"]\n",
    "    reshaped_array = original_array.reshape(dem_width, dem_height)\n",
    "    mg.imshow(\"topographic__elevation\", cmap=\"terrain\")\n",
    "\n",
    "    title_text = f\"$k_{{sp}}$={k_sp};$k_{{hs}}$={k_hs};$time$={total_time};$dx$={cell_size}\"\n",
    "    plt.title(title_text)\n",
    "    plt.savefig(os.path.join('result', f'figure{time:.0f}.png'))\n",
    "    plt.close()"
   ]
  },
  {
   "cell_type": "code",
   "execution_count": 3,
   "metadata": {},
   "outputs": [
    {
     "name": "stderr",
     "output_type": "stream",
     "text": [
      "C:\\Users\\DanielHo\\AppData\\Local\\Temp\\ipykernel_732\\1476577973.py:16: DeprecationWarning: Starting with ImageIO v3 the behavior of this function will switch to that of iio.v3.imread. To keep the current behavior (and make this warning disappear) use `import imageio.v2 as imageio` or call `imageio.v2.imread` directly.\n",
      "  images.append(imageio.imread(file_path))\n"
     ]
    }
   ],
   "source": [
    "def create_gif_from_folder(folder_path, output_filename, fps = 10):\n",
    "    images = []\n",
    "    filtered = []\n",
    "\n",
    "    def getNumber(s):\n",
    "        for i, match in enumerate(re.finditer(r'(?<=figure)\\d+(?=\\.png)', s), start = 1):\n",
    "            return int(match.group())\n",
    "\n",
    "    for i in os.listdir(folder_path):\n",
    "        filtered.append(getNumber(i))\n",
    "\n",
    "    file_paths = [os.path.join(folder_path, f'figure{i}.png') for i in sorted(filtered)]\n",
    "    \n",
    "    # Read each file and append to images list\n",
    "    for file_path in file_paths:\n",
    "        images.append(imageio.imread(file_path))\n",
    "    \n",
    "    # Save the images as a GIF\n",
    "    imageio.mimsave(output_filename, images, fps = fps)\n",
    "\n",
    "# Specify the folder and the output GIF file name\n",
    "folder_path = 'result'\n",
    "output_gif_filename = 'output.gif'\n",
    "\n",
    "# Create the GIF\n",
    "create_gif_from_folder(folder_path, output_gif_filename)"
   ]
  }
 ],
 "metadata": {
  "kernelspec": {
   "display_name": "tahm",
   "language": "python",
   "name": "python3"
  },
  "language_info": {
   "codemirror_mode": {
    "name": "ipython",
    "version": 3
   },
   "file_extension": ".py",
   "mimetype": "text/x-python",
   "name": "python",
   "nbconvert_exporter": "python",
   "pygments_lexer": "ipython3",
   "version": "3.11.9"
  }
 },
 "nbformat": 4,
 "nbformat_minor": 2
}
