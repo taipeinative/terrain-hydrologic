{
 "cells": [
  {
   "cell_type": "markdown",
   "metadata": {},
   "source": [
    "### Import packages"
   ]
  },
  {
   "cell_type": "code",
   "execution_count": 1,
   "metadata": {},
   "outputs": [],
   "source": [
    "import os\n",
    "\n",
    "# Import fldpln_py and matlab packages created by the MATLAB Compiler\n",
    "import fldpln_py\n",
    "from   fldpln.model import *\n",
    "from   fldpln.tile import *\n",
    "import matlab"
   ]
  },
  {
   "cell_type": "markdown",
   "metadata": {},
   "source": [
    "### Create FLDPLN Model object"
   ]
  },
  {
   "cell_type": "code",
   "execution_count": 2,
   "metadata": {},
   "outputs": [
    {
     "name": "stdout",
     "output_type": "stream",
     "text": [
      "Initialize the FLDPLN model ...\n",
      "Done!\n"
     ]
    }
   ],
   "source": [
    "model = FLDPLN()"
   ]
  },
  {
   "cell_type": "markdown",
   "metadata": {},
   "source": [
    "### Generate segments"
   ]
  },
  {
   "cell_type": "code",
   "execution_count": 3,
   "metadata": {},
   "outputs": [
    {
     "name": "stdout",
     "output_type": "stream",
     "text": [
      "Generate segments ...\n",
      "Done!\n"
     ]
    }
   ],
   "source": [
    "# GenerateSegments(Flow direction BIL,\n",
    "#                  Flow accumulation BIL,\n",
    "#                  Stream minimum catchment in sq. miles,\n",
    "#                  Minimum catchment in sq. miles to segment streams,\n",
    "#                  Segment length in miles,\n",
    "#                  Output directory)\n",
    "\n",
    "# Generate the file `str_segid.bil`.\n",
    "\n",
    "model.GenerateSegments('data\\\\bil\\\\fdr.bil', 'data\\\\bil\\\\fac.bil', 50, 25, 2, 'data\\\\tmp\\\\segment')"
   ]
  },
  {
   "cell_type": "markdown",
   "metadata": {},
   "source": [
    "### Generate FSP files"
   ]
  },
  {
   "cell_type": "code",
   "execution_count": 5,
   "metadata": {},
   "outputs": [
    {
     "name": "stdout",
     "output_type": "stream",
     "text": [
      "Write FSP and segment files ...\n",
      "Done!\n"
     ]
    }
   ],
   "source": [
    "# WriteSegmentFspCsvFiles(DEM BIL directory,\n",
    "#                         Segment BIL directory,\n",
    "#                         Segment list,\n",
    "#                         Output directory,\n",
    "#                         Extension)\n",
    "\n",
    "model.WriteSegmentFspCsvFiles('data\\\\bil', 'data\\\\tmp\\\\segment', [], 'data\\\\tmp\\\\segment', 'mat')"
   ]
  },
  {
   "cell_type": "markdown",
   "metadata": {},
   "source": [
    "### Create segment-based library"
   ]
  },
  {
   "cell_type": "code",
   "execution_count": 5,
   "metadata": {},
   "outputs": [
    {
     "name": "stdout",
     "output_type": "stream",
     "text": [
      "Create segment-based library ...\n",
      "Done!\n"
     ]
    }
   ],
   "source": [
    "# CreateSegmentLibrary(DEM BIL directory,\n",
    "#                      Segment BIL directory,\n",
    "#                      Spatial mask,\n",
    "#                      Stream shapefile,\n",
    "#                      Minimum stage of the inundated height in meter,\n",
    "#                      Maximum stage of the inundated height in meter,\n",
    "#                      Vertical height step of the DEM,\n",
    "#                      Maximum height to cease flooding,\n",
    "#                      Output directory,\n",
    "#                      Run memory type,\n",
    "#                      Parallelization parameters)\n",
    "\n",
    "shp_file = {'file': 'data\\\\tmp\\\\segment\\\\segment_simple.shp'}\n",
    "shp_file['segid_field'] = 'grid_code'\n",
    "shp_file['seg_fldmx_field'] = ''\n",
    "\n",
    "para = {'type': 'parfeval'}\n",
    "para['numcores'] = 10 # Comment out to use all cores\n",
    "para['worker_type'] = 'Processes'\n",
    "\n",
    "# Generate the files `h15_dh1_seg###.mat`\n",
    "\n",
    "model.CreateSegmentLibrary('data\\\\bil', 'data\\\\tmp\\\\segment', '', shp_file, 0.01, 15, 1, 0, 'data\\\\tmp\\\\segment-raw-library', 'ram', para)"
   ]
  },
  {
   "cell_type": "markdown",
   "metadata": {},
   "source": [
    "### Format segment-based library for tiling"
   ]
  },
  {
   "cell_type": "code",
   "execution_count": 7,
   "metadata": {},
   "outputs": [
    {
     "name": "stdout",
     "output_type": "stream",
     "text": [
      "Reformat segment-based library ...\n",
      "Done!\n"
     ]
    }
   ],
   "source": [
    "# FormatSegmentLKibrary(DEM BIL directory,\n",
    "#                       Segment BIL directory,\n",
    "#                       Raw segment library directory,\n",
    "#                       Output directory)\n",
    "\n",
    "# Generate the files: `fldpln_segment###.mat`, `segment_info.csv`, `fsp_info.csv` & `lib.prj`\n",
    "\n",
    "model.FormatSegmentLibrary('data\\\\bil', 'data\\\\tmp\\\\segment', 'data\\\\tmp\\\\segment-raw-library', 'data\\\\tmp\\\\segment-library')"
   ]
  },
  {
   "cell_type": "markdown",
   "metadata": {},
   "source": [
    "### Assign stream order to segments"
   ]
  },
  {
   "cell_type": "code",
   "execution_count": 6,
   "metadata": {},
   "outputs": [
    {
     "name": "stdout",
     "output_type": "stream",
     "text": [
      "Generate stream order ...\n",
      "Done!\n"
     ]
    }
   ],
   "source": [
    "# GenerateStreamOrder(DEM BIL directory,\n",
    "#                     Segment BIL directory,\n",
    "#                     Stream shapefile)\n",
    "\n",
    "model.GenerateStreamOrder('data\\\\bil', 'data\\\\tmp\\\\segment', 'data\\\\tmp\\\\segment\\\\segment_simple.shp')"
   ]
  },
  {
   "cell_type": "markdown",
   "metadata": {},
   "source": [
    "### Dispose FLDPLN Model object"
   ]
  },
  {
   "cell_type": "code",
   "execution_count": 8,
   "metadata": {},
   "outputs": [],
   "source": [
    "del model"
   ]
  },
  {
   "cell_type": "markdown",
   "metadata": {},
   "source": [
    "### Generate tile-based library"
   ]
  },
  {
   "cell_type": "code",
   "execution_count": 9,
   "metadata": {},
   "outputs": [
    {
     "name": "stdout",
     "output_type": "stream",
     "text": [
      "Calculate library extent ...\n"
     ]
    },
    {
     "name": "stderr",
     "output_type": "stream",
     "text": [
      "c:\\Users\\DanielHo\\.conda\\envs\\fldpln\\Lib\\site-packages\\fldpln\\tile.py:339: FutureWarning: The behavior of DataFrame concatenation with empty or all-NA entries is deprecated. In a future version, this will no longer exclude empty or all-NA columns when determining the result dtypes. To retain the old behavior, exclude the relevant entries before the concat operation.\n",
      "  segExts = pd.concat([segExts,segExt])\n"
     ]
    },
    {
     "name": "stdout",
     "output_type": "stream",
     "text": [
      "Library external border extent (minX, maxX, minY, maxY) : (-68753.2057939356, -39533.2057939356, 1781182.9445651, 1802562.9445651)\n",
      "Total number of FSP-FPP relations: 3240478\n",
      "Number of (possible) tiles: 30\n",
      "Tile extents:\n",
      " [(-68753.2057939356, -63753.2057939356, 1781182.9445651, 1786182.9445651), (-68753.2057939356, -63753.2057939356, 1786182.9445651, 1791182.9445651), (-68753.2057939356, -63753.2057939356, 1791182.9445651, 1796182.9445651), (-68753.2057939356, -63753.2057939356, 1796182.9445651, 1801182.9445651), (-68753.2057939356, -63753.2057939356, 1801182.9445651, 1806182.9445651), (-63753.2057939356, -58753.2057939356, 1781182.9445651, 1786182.9445651), (-63753.2057939356, -58753.2057939356, 1786182.9445651, 1791182.9445651), (-63753.2057939356, -58753.2057939356, 1791182.9445651, 1796182.9445651), (-63753.2057939356, -58753.2057939356, 1796182.9445651, 1801182.9445651), (-63753.2057939356, -58753.2057939356, 1801182.9445651, 1806182.9445651), (-58753.2057939356, -53753.2057939356, 1781182.9445651, 1786182.9445651), (-58753.2057939356, -53753.2057939356, 1786182.9445651, 1791182.9445651), (-58753.2057939356, -53753.2057939356, 1791182.9445651, 1796182.9445651), (-58753.2057939356, -53753.2057939356, 1796182.9445651, 1801182.9445651), (-58753.2057939356, -53753.2057939356, 1801182.9445651, 1806182.9445651), (-53753.2057939356, -48753.2057939356, 1781182.9445651, 1786182.9445651), (-53753.2057939356, -48753.2057939356, 1786182.9445651, 1791182.9445651), (-53753.2057939356, -48753.2057939356, 1791182.9445651, 1796182.9445651), (-53753.2057939356, -48753.2057939356, 1796182.9445651, 1801182.9445651), (-53753.2057939356, -48753.2057939356, 1801182.9445651, 1806182.9445651), (-48753.2057939356, -43753.2057939356, 1781182.9445651, 1786182.9445651), (-48753.2057939356, -43753.2057939356, 1786182.9445651, 1791182.9445651), (-48753.2057939356, -43753.2057939356, 1791182.9445651, 1796182.9445651), (-48753.2057939356, -43753.2057939356, 1796182.9445651, 1801182.9445651), (-48753.2057939356, -43753.2057939356, 1801182.9445651, 1806182.9445651), (-43753.2057939356, -38753.2057939356, 1781182.9445651, 1786182.9445651), (-43753.2057939356, -38753.2057939356, 1786182.9445651, 1791182.9445651), (-43753.2057939356, -38753.2057939356, 1791182.9445651, 1796182.9445651), (-43753.2057939356, -38753.2057939356, 1796182.9445651, 1801182.9445651), (-43753.2057939356, -38753.2057939356, 1801182.9445651, 1806182.9445651)] \n",
      "\n",
      "Build tiles (tiling FSP-FPP relations) ...\n",
      "Processing tile:  1\n",
      "Tile extent (minX, maxX, minY, maxY) : (-68753.2057939356, -63753.2057939356, 1781182.9445651, 1786182.9445651)\n",
      "Number of segments interseting with the tile:  3\n",
      "Total number of FSP-FPP relations in the tile: 13757\n",
      "Saving FSP-FPP relations in a file...\n"
     ]
    },
    {
     "name": "stderr",
     "output_type": "stream",
     "text": [
      "c:\\Users\\DanielHo\\.conda\\envs\\fldpln\\Lib\\site-packages\\fldpln\\tile.py:212: FutureWarning: The provided callable <built-in function min> is currently using SeriesGroupBy.min. In a future version of pandas, the provided callable will be used directly. To keep current behavior pass the string \"min\" instead.\n",
      "  fspDf = tdf.groupby(['FspId'], as_index=False).agg(MinDtf = ('Dtf', min),MaxDtf = ('Dtf', max))\n",
      "c:\\Users\\DanielHo\\.conda\\envs\\fldpln\\Lib\\site-packages\\fldpln\\tile.py:212: FutureWarning: The provided callable <built-in function max> is currently using SeriesGroupBy.max. In a future version of pandas, the provided callable will be used directly. To keep current behavior pass the string \"max\" instead.\n",
      "  fspDf = tdf.groupby(['FspId'], as_index=False).agg(MinDtf = ('Dtf', min),MaxDtf = ('Dtf', max))\n",
      "c:\\Users\\DanielHo\\.conda\\envs\\fldpln\\Lib\\site-packages\\fldpln\\tile.py:222: FutureWarning: The behavior of DataFrame concatenation with empty or all-NA entries is deprecated. In a future version, this will no longer exclude empty or all-NA columns when determining the result dtypes. To retain the old behavior, exclude the relevant entries before the concat operation.\n",
      "  fspIdxDf = pd.concat([fspIdxDf, fspDf], ignore_index=True)\n",
      "c:\\Users\\DanielHo\\.conda\\envs\\fldpln\\Lib\\site-packages\\fldpln\\tile.py:244: FutureWarning: The behavior of DataFrame concatenation with empty or all-NA entries is deprecated. In a future version, this will no longer exclude empty or all-NA columns when determining the result dtypes. To retain the old behavior, exclude the relevant entries before the concat operation.\n",
      "  tileIdxDf = pd.concat([tileIdxDf, tileIdx],ignore_index=True)\n"
     ]
    },
    {
     "name": "stdout",
     "output_type": "stream",
     "text": [
      "Number of unique FSPs in the tile: 3\n",
      "Tile FSP extent (fspMinX,fspMaxX,fspMinY,fspMaxY):  (-50663.2057939356, -48123.2057939356, 1792952.9445651, 1793932.9445651)\n",
      "Tile FPP extent (fppMinX,fppMaxX,fppMinY,fppMaxY):  (-68753.2057939356, -63753.2057939356, 1781182.9445651, 1785102.9445651)\n",
      "Processing tile:  2\n",
      "Tile extent (minX, maxX, minY, maxY) : (-68753.2057939356, -63753.2057939356, 1786182.9445651, 1791182.9445651)\n",
      "Number of segments interseting with the tile:  3\n",
      "Total number of FSP-FPP relations in the tile: 0\n",
      "Processing tile:  2\n",
      "Tile extent (minX, maxX, minY, maxY) : (-68753.2057939356, -63753.2057939356, 1791182.9445651, 1796182.9445651)\n",
      "Number of segments interseting with the tile:  4\n",
      "Total number of FSP-FPP relations in the tile: 0\n",
      "Processing tile:  2\n",
      "Tile extent (minX, maxX, minY, maxY) : (-68753.2057939356, -63753.2057939356, 1796182.9445651, 1801182.9445651)\n",
      "Number of segments interseting with the tile:  7\n",
      "Total number of FSP-FPP relations in the tile: 15385\n",
      "Saving FSP-FPP relations in a file...\n",
      "Number of unique FSPs in the tile: 4\n",
      "Tile FSP extent (fspMinX,fspMaxX,fspMinY,fspMaxY):  (-61663.2057939356, -60083.2057939356, 1799132.9445651, 1800132.9445651)\n",
      "Tile FPP extent (fppMinX,fppMaxX,fppMinY,fppMaxY):  (-65003.2057939356, -63753.2057939356, 1800242.9445651, 1801182.9445651)\n",
      "Processing tile:  3\n",
      "Tile extent (minX, maxX, minY, maxY) : (-68753.2057939356, -63753.2057939356, 1801182.9445651, 1806182.9445651)\n",
      "Number of segments interseting with the tile:  4\n"
     ]
    },
    {
     "name": "stderr",
     "output_type": "stream",
     "text": [
      "c:\\Users\\DanielHo\\.conda\\envs\\fldpln\\Lib\\site-packages\\fldpln\\tile.py:212: FutureWarning: The provided callable <built-in function min> is currently using SeriesGroupBy.min. In a future version of pandas, the provided callable will be used directly. To keep current behavior pass the string \"min\" instead.\n",
      "  fspDf = tdf.groupby(['FspId'], as_index=False).agg(MinDtf = ('Dtf', min),MaxDtf = ('Dtf', max))\n",
      "c:\\Users\\DanielHo\\.conda\\envs\\fldpln\\Lib\\site-packages\\fldpln\\tile.py:212: FutureWarning: The provided callable <built-in function max> is currently using SeriesGroupBy.max. In a future version of pandas, the provided callable will be used directly. To keep current behavior pass the string \"max\" instead.\n",
      "  fspDf = tdf.groupby(['FspId'], as_index=False).agg(MinDtf = ('Dtf', min),MaxDtf = ('Dtf', max))\n"
     ]
    },
    {
     "name": "stdout",
     "output_type": "stream",
     "text": [
      "Total number of FSP-FPP relations in the tile: 5771\n",
      "Saving FSP-FPP relations in a file...\n",
      "Number of unique FSPs in the tile: 3\n",
      "Tile FSP extent (fspMinX,fspMaxX,fspMinY,fspMaxY):  (-61663.2057939356, -60853.2057939356, 1799942.9445651, 1800132.9445651)\n",
      "Tile FPP extent (fppMinX,fppMaxX,fppMinY,fppMaxY):  (-65773.2057939356, -64203.2057939356, 1801182.9445651, 1801962.9445651)\n",
      "Processing tile:  4\n",
      "Tile extent (minX, maxX, minY, maxY) : (-63753.2057939356, -58753.2057939356, 1781182.9445651, 1786182.9445651)\n",
      "Number of segments interseting with the tile:  3\n"
     ]
    },
    {
     "name": "stderr",
     "output_type": "stream",
     "text": [
      "c:\\Users\\DanielHo\\.conda\\envs\\fldpln\\Lib\\site-packages\\fldpln\\tile.py:212: FutureWarning: The provided callable <built-in function min> is currently using SeriesGroupBy.min. In a future version of pandas, the provided callable will be used directly. To keep current behavior pass the string \"min\" instead.\n",
      "  fspDf = tdf.groupby(['FspId'], as_index=False).agg(MinDtf = ('Dtf', min),MaxDtf = ('Dtf', max))\n",
      "c:\\Users\\DanielHo\\.conda\\envs\\fldpln\\Lib\\site-packages\\fldpln\\tile.py:212: FutureWarning: The provided callable <built-in function max> is currently using SeriesGroupBy.max. In a future version of pandas, the provided callable will be used directly. To keep current behavior pass the string \"max\" instead.\n",
      "  fspDf = tdf.groupby(['FspId'], as_index=False).agg(MinDtf = ('Dtf', min),MaxDtf = ('Dtf', max))\n"
     ]
    },
    {
     "name": "stdout",
     "output_type": "stream",
     "text": [
      "Total number of FSP-FPP relations in the tile: 31449\n",
      "Saving FSP-FPP relations in a file...\n",
      "Number of unique FSPs in the tile: 3\n",
      "Tile FSP extent (fspMinX,fspMaxX,fspMinY,fspMaxY):  (-50663.2057939356, -48123.2057939356, 1792952.9445651, 1793932.9445651)\n",
      "Tile FPP extent (fppMinX,fppMaxX,fppMinY,fppMaxY):  (-63753.2057939356, -59573.2057939356, 1782402.9445651, 1786182.9445651)\n",
      "Processing tile:  5\n",
      "Tile extent (minX, maxX, minY, maxY) : (-63753.2057939356, -58753.2057939356, 1786182.9445651, 1791182.9445651)\n",
      "Number of segments interseting with the tile:  3\n"
     ]
    },
    {
     "name": "stderr",
     "output_type": "stream",
     "text": [
      "c:\\Users\\DanielHo\\.conda\\envs\\fldpln\\Lib\\site-packages\\fldpln\\tile.py:212: FutureWarning: The provided callable <built-in function min> is currently using SeriesGroupBy.min. In a future version of pandas, the provided callable will be used directly. To keep current behavior pass the string \"min\" instead.\n",
      "  fspDf = tdf.groupby(['FspId'], as_index=False).agg(MinDtf = ('Dtf', min),MaxDtf = ('Dtf', max))\n",
      "c:\\Users\\DanielHo\\.conda\\envs\\fldpln\\Lib\\site-packages\\fldpln\\tile.py:212: FutureWarning: The provided callable <built-in function max> is currently using SeriesGroupBy.max. In a future version of pandas, the provided callable will be used directly. To keep current behavior pass the string \"max\" instead.\n",
      "  fspDf = tdf.groupby(['FspId'], as_index=False).agg(MinDtf = ('Dtf', min),MaxDtf = ('Dtf', max))\n"
     ]
    },
    {
     "name": "stdout",
     "output_type": "stream",
     "text": [
      "Total number of FSP-FPP relations in the tile: 26275\n",
      "Saving FSP-FPP relations in a file...\n",
      "Number of unique FSPs in the tile: 3\n",
      "Tile FSP extent (fspMinX,fspMaxX,fspMinY,fspMaxY):  (-50663.2057939356, -48123.2057939356, 1792952.9445651, 1793932.9445651)\n",
      "Tile FPP extent (fppMinX,fppMaxX,fppMinY,fppMaxY):  (-60533.2057939356, -58753.2057939356, 1786182.9445651, 1788132.9445651)\n",
      "Processing tile:  6\n",
      "Tile extent (minX, maxX, minY, maxY) : (-63753.2057939356, -58753.2057939356, 1791182.9445651, 1796182.9445651)\n",
      "Number of segments interseting with the tile:  9\n"
     ]
    },
    {
     "name": "stderr",
     "output_type": "stream",
     "text": [
      "c:\\Users\\DanielHo\\.conda\\envs\\fldpln\\Lib\\site-packages\\fldpln\\tile.py:212: FutureWarning: The provided callable <built-in function min> is currently using SeriesGroupBy.min. In a future version of pandas, the provided callable will be used directly. To keep current behavior pass the string \"min\" instead.\n",
      "  fspDf = tdf.groupby(['FspId'], as_index=False).agg(MinDtf = ('Dtf', min),MaxDtf = ('Dtf', max))\n",
      "c:\\Users\\DanielHo\\.conda\\envs\\fldpln\\Lib\\site-packages\\fldpln\\tile.py:212: FutureWarning: The provided callable <built-in function max> is currently using SeriesGroupBy.max. In a future version of pandas, the provided callable will be used directly. To keep current behavior pass the string \"max\" instead.\n",
      "  fspDf = tdf.groupby(['FspId'], as_index=False).agg(MinDtf = ('Dtf', min),MaxDtf = ('Dtf', max))\n"
     ]
    },
    {
     "name": "stdout",
     "output_type": "stream",
     "text": [
      "Total number of FSP-FPP relations in the tile: 0\n",
      "Processing tile:  6\n",
      "Tile extent (minX, maxX, minY, maxY) : (-63753.2057939356, -58753.2057939356, 1796182.9445651, 1801182.9445651)\n",
      "Number of segments interseting with the tile:  12\n",
      "Total number of FSP-FPP relations in the tile: 286603\n",
      "Saving FSP-FPP relations in a file...\n",
      "Number of unique FSPs in the tile: 524\n",
      "Tile FSP extent (fspMinX,fspMaxX,fspMinY,fspMaxY):  (-61663.2057939356, -55793.2057939356, 1796342.9445651, 1800132.9445651)\n",
      "Tile FPP extent (fppMinX,fppMaxX,fppMinY,fppMaxY):  (-63753.2057939356, -58753.2057939356, 1797732.9445651, 1801182.9445651)\n"
     ]
    },
    {
     "name": "stderr",
     "output_type": "stream",
     "text": [
      "c:\\Users\\DanielHo\\.conda\\envs\\fldpln\\Lib\\site-packages\\fldpln\\tile.py:212: FutureWarning: The provided callable <built-in function min> is currently using SeriesGroupBy.min. In a future version of pandas, the provided callable will be used directly. To keep current behavior pass the string \"min\" instead.\n",
      "  fspDf = tdf.groupby(['FspId'], as_index=False).agg(MinDtf = ('Dtf', min),MaxDtf = ('Dtf', max))\n",
      "c:\\Users\\DanielHo\\.conda\\envs\\fldpln\\Lib\\site-packages\\fldpln\\tile.py:212: FutureWarning: The provided callable <built-in function max> is currently using SeriesGroupBy.max. In a future version of pandas, the provided callable will be used directly. To keep current behavior pass the string \"max\" instead.\n",
      "  fspDf = tdf.groupby(['FspId'], as_index=False).agg(MinDtf = ('Dtf', min),MaxDtf = ('Dtf', max))\n",
      "c:\\Users\\DanielHo\\.conda\\envs\\fldpln\\Lib\\site-packages\\fldpln\\tile.py:212: FutureWarning: The provided callable <built-in function min> is currently using SeriesGroupBy.min. In a future version of pandas, the provided callable will be used directly. To keep current behavior pass the string \"min\" instead.\n",
      "  fspDf = tdf.groupby(['FspId'], as_index=False).agg(MinDtf = ('Dtf', min),MaxDtf = ('Dtf', max))\n",
      "c:\\Users\\DanielHo\\.conda\\envs\\fldpln\\Lib\\site-packages\\fldpln\\tile.py:212: FutureWarning: The provided callable <built-in function max> is currently using SeriesGroupBy.max. In a future version of pandas, the provided callable will be used directly. To keep current behavior pass the string \"max\" instead.\n",
      "  fspDf = tdf.groupby(['FspId'], as_index=False).agg(MinDtf = ('Dtf', min),MaxDtf = ('Dtf', max))\n"
     ]
    },
    {
     "name": "stdout",
     "output_type": "stream",
     "text": [
      "Processing tile:  7\n",
      "Tile extent (minX, maxX, minY, maxY) : (-63753.2057939356, -58753.2057939356, 1801182.9445651, 1806182.9445651)\n",
      "Number of segments interseting with the tile:  4\n",
      "Total number of FSP-FPP relations in the tile: 10652\n",
      "Saving FSP-FPP relations in a file...\n",
      "Number of unique FSPs in the tile: 4\n",
      "Tile FSP extent (fspMinX,fspMaxX,fspMinY,fspMaxY):  (-61663.2057939356, -60083.2057939356, 1799132.9445651, 1800132.9445651)\n",
      "Tile FPP extent (fppMinX,fppMaxX,fppMinY,fppMaxY):  (-63023.2057939356, -60543.2057939356, 1801182.9445651, 1802562.9445651)\n",
      "Processing tile:  8\n",
      "Tile extent (minX, maxX, minY, maxY) : (-58753.2057939356, -53753.2057939356, 1781182.9445651, 1786182.9445651)\n",
      "Number of segments interseting with the tile:  3\n",
      "Total number of FSP-FPP relations in the tile: 0\n",
      "Processing tile:  8\n",
      "Tile extent (minX, maxX, minY, maxY) : (-58753.2057939356, -53753.2057939356, 1786182.9445651, 1791182.9445651)\n",
      "Number of segments interseting with the tile:  4\n",
      "Total number of FSP-FPP relations in the tile: 142734\n",
      "Saving FSP-FPP relations in a file...\n",
      "Number of unique FSPs in the tile: 3\n",
      "Tile FSP extent (fspMinX,fspMaxX,fspMinY,fspMaxY):  (-50663.2057939356, -48123.2057939356, 1792952.9445651, 1793932.9445651)\n",
      "Tile FPP extent (fppMinX,fppMaxX,fppMinY,fppMaxY):  (-58753.2057939356, -53753.2057939356, 1786552.9445651, 1791182.9445651)\n",
      "Processing tile:  9\n",
      "Tile extent (minX, maxX, minY, maxY) : (-58753.2057939356, -53753.2057939356, 1791182.9445651, 1796182.9445651)\n",
      "Number of segments interseting with the tile:  13\n"
     ]
    },
    {
     "name": "stderr",
     "output_type": "stream",
     "text": [
      "c:\\Users\\DanielHo\\.conda\\envs\\fldpln\\Lib\\site-packages\\fldpln\\tile.py:212: FutureWarning: The provided callable <built-in function min> is currently using SeriesGroupBy.min. In a future version of pandas, the provided callable will be used directly. To keep current behavior pass the string \"min\" instead.\n",
      "  fspDf = tdf.groupby(['FspId'], as_index=False).agg(MinDtf = ('Dtf', min),MaxDtf = ('Dtf', max))\n",
      "c:\\Users\\DanielHo\\.conda\\envs\\fldpln\\Lib\\site-packages\\fldpln\\tile.py:212: FutureWarning: The provided callable <built-in function max> is currently using SeriesGroupBy.max. In a future version of pandas, the provided callable will be used directly. To keep current behavior pass the string \"max\" instead.\n",
      "  fspDf = tdf.groupby(['FspId'], as_index=False).agg(MinDtf = ('Dtf', min),MaxDtf = ('Dtf', max))\n"
     ]
    },
    {
     "name": "stdout",
     "output_type": "stream",
     "text": [
      "Total number of FSP-FPP relations in the tile: 226978\n",
      "Saving FSP-FPP relations in a file...\n",
      "Number of unique FSPs in the tile: 280\n",
      "Tile FSP extent (fspMinX,fspMaxX,fspMinY,fspMaxY):  (-58713.2057939356, -48123.2057939356, 1792952.9445651, 1798032.9445651)\n",
      "Tile FPP extent (fppMinX,fppMaxX,fppMinY,fppMaxY):  (-57883.2057939356, -53753.2057939356, 1791182.9445651, 1796182.9445651)\n",
      "Processing tile:  10\n",
      "Tile extent (minX, maxX, minY, maxY) : (-58753.2057939356, -53753.2057939356, 1796182.9445651, 1801182.9445651)\n",
      "Number of segments interseting with the tile:  16\n"
     ]
    },
    {
     "name": "stderr",
     "output_type": "stream",
     "text": [
      "c:\\Users\\DanielHo\\.conda\\envs\\fldpln\\Lib\\site-packages\\fldpln\\tile.py:212: FutureWarning: The provided callable <built-in function min> is currently using SeriesGroupBy.min. In a future version of pandas, the provided callable will be used directly. To keep current behavior pass the string \"min\" instead.\n",
      "  fspDf = tdf.groupby(['FspId'], as_index=False).agg(MinDtf = ('Dtf', min),MaxDtf = ('Dtf', max))\n",
      "c:\\Users\\DanielHo\\.conda\\envs\\fldpln\\Lib\\site-packages\\fldpln\\tile.py:212: FutureWarning: The provided callable <built-in function max> is currently using SeriesGroupBy.max. In a future version of pandas, the provided callable will be used directly. To keep current behavior pass the string \"max\" instead.\n",
      "  fspDf = tdf.groupby(['FspId'], as_index=False).agg(MinDtf = ('Dtf', min),MaxDtf = ('Dtf', max))\n"
     ]
    },
    {
     "name": "stdout",
     "output_type": "stream",
     "text": [
      "Total number of FSP-FPP relations in the tile: 442352\n",
      "Saving FSP-FPP relations in a file...\n"
     ]
    },
    {
     "name": "stderr",
     "output_type": "stream",
     "text": [
      "c:\\Users\\DanielHo\\.conda\\envs\\fldpln\\Lib\\site-packages\\fldpln\\tile.py:212: FutureWarning: The provided callable <built-in function min> is currently using SeriesGroupBy.min. In a future version of pandas, the provided callable will be used directly. To keep current behavior pass the string \"min\" instead.\n",
      "  fspDf = tdf.groupby(['FspId'], as_index=False).agg(MinDtf = ('Dtf', min),MaxDtf = ('Dtf', max))\n",
      "c:\\Users\\DanielHo\\.conda\\envs\\fldpln\\Lib\\site-packages\\fldpln\\tile.py:212: FutureWarning: The provided callable <built-in function max> is currently using SeriesGroupBy.max. In a future version of pandas, the provided callable will be used directly. To keep current behavior pass the string \"max\" instead.\n",
      "  fspDf = tdf.groupby(['FspId'], as_index=False).agg(MinDtf = ('Dtf', min),MaxDtf = ('Dtf', max))\n"
     ]
    },
    {
     "name": "stdout",
     "output_type": "stream",
     "text": [
      "Number of unique FSPs in the tile: 769\n",
      "Tile FSP extent (fspMinX,fspMaxX,fspMinY,fspMaxY):  (-61663.2057939356, -48293.2057939356, 1793442.9445651, 1800132.9445651)\n",
      "Tile FPP extent (fppMinX,fppMaxX,fppMinY,fppMaxY):  (-58753.2057939356, -53753.2057939356, 1796182.9445651, 1799532.9445651)\n",
      "Processing tile:  11\n",
      "Tile extent (minX, maxX, minY, maxY) : (-58753.2057939356, -53753.2057939356, 1801182.9445651, 1806182.9445651)\n",
      "Number of segments interseting with the tile:  4\n",
      "Total number of FSP-FPP relations in the tile: 0\n",
      "Processing tile:  11\n",
      "Tile extent (minX, maxX, minY, maxY) : (-53753.2057939356, -48753.2057939356, 1781182.9445651, 1786182.9445651)\n",
      "Number of segments interseting with the tile:  3\n",
      "Total number of FSP-FPP relations in the tile: 0\n",
      "Processing tile:  11\n",
      "Tile extent (minX, maxX, minY, maxY) : (-53753.2057939356, -48753.2057939356, 1786182.9445651, 1791182.9445651)\n",
      "Number of segments interseting with the tile:  4\n",
      "Total number of FSP-FPP relations in the tile: 364110\n",
      "Saving FSP-FPP relations in a file...\n",
      "Number of unique FSPs in the tile: 5\n",
      "Tile FSP extent (fspMinX,fspMaxX,fspMinY,fspMaxY):  (-51363.2057939356, -48123.2057939356, 1792952.9445651, 1794352.9445651)\n",
      "Tile FPP extent (fppMinX,fppMaxX,fppMinY,fppMaxY):  (-53753.2057939356, -48753.2057939356, 1787372.9445651, 1791182.9445651)\n",
      "Processing tile:  12\n",
      "Tile extent (minX, maxX, minY, maxY) : (-53753.2057939356, -48753.2057939356, 1791182.9445651, 1796182.9445651)\n",
      "Number of segments interseting with the tile:  12\n"
     ]
    },
    {
     "name": "stderr",
     "output_type": "stream",
     "text": [
      "c:\\Users\\DanielHo\\.conda\\envs\\fldpln\\Lib\\site-packages\\fldpln\\tile.py:212: FutureWarning: The provided callable <built-in function min> is currently using SeriesGroupBy.min. In a future version of pandas, the provided callable will be used directly. To keep current behavior pass the string \"min\" instead.\n",
      "  fspDf = tdf.groupby(['FspId'], as_index=False).agg(MinDtf = ('Dtf', min),MaxDtf = ('Dtf', max))\n",
      "c:\\Users\\DanielHo\\.conda\\envs\\fldpln\\Lib\\site-packages\\fldpln\\tile.py:212: FutureWarning: The provided callable <built-in function max> is currently using SeriesGroupBy.max. In a future version of pandas, the provided callable will be used directly. To keep current behavior pass the string \"max\" instead.\n",
      "  fspDf = tdf.groupby(['FspId'], as_index=False).agg(MinDtf = ('Dtf', min),MaxDtf = ('Dtf', max))\n"
     ]
    },
    {
     "name": "stdout",
     "output_type": "stream",
     "text": [
      "Total number of FSP-FPP relations in the tile: 596205\n",
      "Saving FSP-FPP relations in a file...\n",
      "Number of unique FSPs in the tile: 1050\n",
      "Tile FSP extent (fspMinX,fspMaxX,fspMinY,fspMaxY):  (-57643.2057939356, -48123.2057939356, 1792952.9445651, 1797322.9445651)\n",
      "Tile FPP extent (fppMinX,fppMaxX,fppMinY,fppMaxY):  (-53753.2057939356, -48753.2057939356, 1791182.9445651, 1796182.9445651)\n",
      "Processing tile:  13\n",
      "Tile extent (minX, maxX, minY, maxY) : (-53753.2057939356, -48753.2057939356, 1796182.9445651, 1801182.9445651)\n",
      "Number of segments interseting with the tile:  12\n"
     ]
    },
    {
     "name": "stderr",
     "output_type": "stream",
     "text": [
      "c:\\Users\\DanielHo\\.conda\\envs\\fldpln\\Lib\\site-packages\\fldpln\\tile.py:212: FutureWarning: The provided callable <built-in function min> is currently using SeriesGroupBy.min. In a future version of pandas, the provided callable will be used directly. To keep current behavior pass the string \"min\" instead.\n",
      "  fspDf = tdf.groupby(['FspId'], as_index=False).agg(MinDtf = ('Dtf', min),MaxDtf = ('Dtf', max))\n",
      "c:\\Users\\DanielHo\\.conda\\envs\\fldpln\\Lib\\site-packages\\fldpln\\tile.py:212: FutureWarning: The provided callable <built-in function max> is currently using SeriesGroupBy.max. In a future version of pandas, the provided callable will be used directly. To keep current behavior pass the string \"max\" instead.\n",
      "  fspDf = tdf.groupby(['FspId'], as_index=False).agg(MinDtf = ('Dtf', min),MaxDtf = ('Dtf', max))\n"
     ]
    },
    {
     "name": "stdout",
     "output_type": "stream",
     "text": [
      "Total number of FSP-FPP relations in the tile: 40586\n",
      "Saving FSP-FPP relations in a file...\n",
      "Number of unique FSPs in the tile: 19\n",
      "Tile FSP extent (fspMinX,fspMaxX,fspMinY,fspMaxY):  (-56393.2057939356, -48293.2057939356, 1793442.9445651, 1797032.9445651)\n",
      "Tile FPP extent (fppMinX,fppMaxX,fppMinY,fppMaxY):  (-53753.2057939356, -48753.2057939356, 1796182.9445651, 1797262.9445651)\n",
      "Processing tile:  14\n",
      "Tile extent (minX, maxX, minY, maxY) : (-53753.2057939356, -48753.2057939356, 1801182.9445651, 1806182.9445651)\n",
      "Number of segments interseting with the tile:  0\n",
      "Total number of FSP-FPP relations in the tile: 0\n",
      "Processing tile:  14\n",
      "Tile extent (minX, maxX, minY, maxY) : (-48753.2057939356, -43753.2057939356, 1781182.9445651, 1786182.9445651)\n",
      "Number of segments interseting with the tile:  3\n"
     ]
    },
    {
     "name": "stderr",
     "output_type": "stream",
     "text": [
      "c:\\Users\\DanielHo\\.conda\\envs\\fldpln\\Lib\\site-packages\\fldpln\\tile.py:212: FutureWarning: The provided callable <built-in function min> is currently using SeriesGroupBy.min. In a future version of pandas, the provided callable will be used directly. To keep current behavior pass the string \"min\" instead.\n",
      "  fspDf = tdf.groupby(['FspId'], as_index=False).agg(MinDtf = ('Dtf', min),MaxDtf = ('Dtf', max))\n",
      "c:\\Users\\DanielHo\\.conda\\envs\\fldpln\\Lib\\site-packages\\fldpln\\tile.py:212: FutureWarning: The provided callable <built-in function max> is currently using SeriesGroupBy.max. In a future version of pandas, the provided callable will be used directly. To keep current behavior pass the string \"max\" instead.\n",
      "  fspDf = tdf.groupby(['FspId'], as_index=False).agg(MinDtf = ('Dtf', min),MaxDtf = ('Dtf', max))\n"
     ]
    },
    {
     "name": "stdout",
     "output_type": "stream",
     "text": [
      "Total number of FSP-FPP relations in the tile: 0\n",
      "Processing tile:  14\n",
      "Tile extent (minX, maxX, minY, maxY) : (-48753.2057939356, -43753.2057939356, 1786182.9445651, 1791182.9445651)\n",
      "Number of segments interseting with the tile:  4\n",
      "Total number of FSP-FPP relations in the tile: 23842\n",
      "Saving FSP-FPP relations in a file...\n",
      "Number of unique FSPs in the tile: 4\n",
      "Tile FSP extent (fspMinX,fspMaxX,fspMinY,fspMaxY):  (-51363.2057939356, -48123.2057939356, 1792952.9445651, 1794352.9445651)\n",
      "Tile FPP extent (fppMinX,fppMaxX,fppMinY,fppMaxY):  (-48753.2057939356, -47793.2057939356, 1789152.9445651, 1791182.9445651)\n",
      "Processing tile:  15\n",
      "Tile extent (minX, maxX, minY, maxY) : (-48753.2057939356, -43753.2057939356, 1791182.9445651, 1796182.9445651)\n",
      "Number of segments interseting with the tile:  4\n"
     ]
    },
    {
     "name": "stderr",
     "output_type": "stream",
     "text": [
      "c:\\Users\\DanielHo\\.conda\\envs\\fldpln\\Lib\\site-packages\\fldpln\\tile.py:212: FutureWarning: The provided callable <built-in function min> is currently using SeriesGroupBy.min. In a future version of pandas, the provided callable will be used directly. To keep current behavior pass the string \"min\" instead.\n",
      "  fspDf = tdf.groupby(['FspId'], as_index=False).agg(MinDtf = ('Dtf', min),MaxDtf = ('Dtf', max))\n",
      "c:\\Users\\DanielHo\\.conda\\envs\\fldpln\\Lib\\site-packages\\fldpln\\tile.py:212: FutureWarning: The provided callable <built-in function max> is currently using SeriesGroupBy.max. In a future version of pandas, the provided callable will be used directly. To keep current behavior pass the string \"max\" instead.\n",
      "  fspDf = tdf.groupby(['FspId'], as_index=False).agg(MinDtf = ('Dtf', min),MaxDtf = ('Dtf', max))\n"
     ]
    },
    {
     "name": "stdout",
     "output_type": "stream",
     "text": [
      "Total number of FSP-FPP relations in the tile: 392628\n",
      "Saving FSP-FPP relations in a file...\n"
     ]
    },
    {
     "name": "stderr",
     "output_type": "stream",
     "text": [
      "c:\\Users\\DanielHo\\.conda\\envs\\fldpln\\Lib\\site-packages\\fldpln\\tile.py:212: FutureWarning: The provided callable <built-in function min> is currently using SeriesGroupBy.min. In a future version of pandas, the provided callable will be used directly. To keep current behavior pass the string \"min\" instead.\n",
      "  fspDf = tdf.groupby(['FspId'], as_index=False).agg(MinDtf = ('Dtf', min),MaxDtf = ('Dtf', max))\n",
      "c:\\Users\\DanielHo\\.conda\\envs\\fldpln\\Lib\\site-packages\\fldpln\\tile.py:212: FutureWarning: The provided callable <built-in function max> is currently using SeriesGroupBy.max. In a future version of pandas, the provided callable will be used directly. To keep current behavior pass the string \"max\" instead.\n",
      "  fspDf = tdf.groupby(['FspId'], as_index=False).agg(MinDtf = ('Dtf', min),MaxDtf = ('Dtf', max))\n"
     ]
    },
    {
     "name": "stdout",
     "output_type": "stream",
     "text": [
      "Number of unique FSPs in the tile: 136\n",
      "Tile FSP extent (fspMinX,fspMaxX,fspMinY,fspMaxY):  (-51363.2057939356, -47973.2057939356, 1792812.9445651, 1794352.9445651)\n",
      "Tile FPP extent (fppMinX,fppMaxX,fppMinY,fppMaxY):  (-48753.2057939356, -43753.2057939356, 1791182.9445651, 1796182.9445651)\n",
      "Processing tile:  16\n",
      "Tile extent (minX, maxX, minY, maxY) : (-48753.2057939356, -43753.2057939356, 1796182.9445651, 1801182.9445651)\n",
      "Number of segments interseting with the tile:  4\n",
      "Total number of FSP-FPP relations in the tile: 58212\n",
      "Saving FSP-FPP relations in a file...\n",
      "Number of unique FSPs in the tile: 6\n",
      "Tile FSP extent (fspMinX,fspMaxX,fspMinY,fspMaxY):  (-50783.2057939356, -47973.2057939356, 1792812.9445651, 1794262.9445651)\n",
      "Tile FPP extent (fppMinX,fppMaxX,fppMinY,fppMaxY):  (-48753.2057939356, -43753.2057939356, 1796182.9445651, 1797722.9445651)\n",
      "Processing tile:  17\n",
      "Tile extent (minX, maxX, minY, maxY) : (-48753.2057939356, -43753.2057939356, 1801182.9445651, 1806182.9445651)\n",
      "Number of segments interseting with the tile:  0\n",
      "Total number of FSP-FPP relations in the tile: 0\n",
      "Processing tile:  17\n",
      "Tile extent (minX, maxX, minY, maxY) : (-43753.2057939356, -38753.2057939356, 1781182.9445651, 1786182.9445651)\n",
      "Number of segments interseting with the tile:  3\n"
     ]
    },
    {
     "name": "stderr",
     "output_type": "stream",
     "text": [
      "c:\\Users\\DanielHo\\.conda\\envs\\fldpln\\Lib\\site-packages\\fldpln\\tile.py:212: FutureWarning: The provided callable <built-in function min> is currently using SeriesGroupBy.min. In a future version of pandas, the provided callable will be used directly. To keep current behavior pass the string \"min\" instead.\n",
      "  fspDf = tdf.groupby(['FspId'], as_index=False).agg(MinDtf = ('Dtf', min),MaxDtf = ('Dtf', max))\n",
      "c:\\Users\\DanielHo\\.conda\\envs\\fldpln\\Lib\\site-packages\\fldpln\\tile.py:212: FutureWarning: The provided callable <built-in function max> is currently using SeriesGroupBy.max. In a future version of pandas, the provided callable will be used directly. To keep current behavior pass the string \"max\" instead.\n",
      "  fspDf = tdf.groupby(['FspId'], as_index=False).agg(MinDtf = ('Dtf', min),MaxDtf = ('Dtf', max))\n"
     ]
    },
    {
     "name": "stdout",
     "output_type": "stream",
     "text": [
      "Total number of FSP-FPP relations in the tile: 0\n",
      "Processing tile:  17\n",
      "Tile extent (minX, maxX, minY, maxY) : (-43753.2057939356, -38753.2057939356, 1786182.9445651, 1791182.9445651)\n",
      "Number of segments interseting with the tile:  4\n",
      "Total number of FSP-FPP relations in the tile: 0\n",
      "Processing tile:  17\n",
      "Tile extent (minX, maxX, minY, maxY) : (-43753.2057939356, -38753.2057939356, 1791182.9445651, 1796182.9445651)\n",
      "Number of segments interseting with the tile:  4\n",
      "Total number of FSP-FPP relations in the tile: 443592\n",
      "Saving FSP-FPP relations in a file...\n"
     ]
    },
    {
     "name": "stderr",
     "output_type": "stream",
     "text": [
      "c:\\Users\\DanielHo\\.conda\\envs\\fldpln\\Lib\\site-packages\\fldpln\\tile.py:212: FutureWarning: The provided callable <built-in function min> is currently using SeriesGroupBy.min. In a future version of pandas, the provided callable will be used directly. To keep current behavior pass the string \"min\" instead.\n",
      "  fspDf = tdf.groupby(['FspId'], as_index=False).agg(MinDtf = ('Dtf', min),MaxDtf = ('Dtf', max))\n",
      "c:\\Users\\DanielHo\\.conda\\envs\\fldpln\\Lib\\site-packages\\fldpln\\tile.py:212: FutureWarning: The provided callable <built-in function max> is currently using SeriesGroupBy.max. In a future version of pandas, the provided callable will be used directly. To keep current behavior pass the string \"max\" instead.\n",
      "  fspDf = tdf.groupby(['FspId'], as_index=False).agg(MinDtf = ('Dtf', min),MaxDtf = ('Dtf', max))\n"
     ]
    },
    {
     "name": "stdout",
     "output_type": "stream",
     "text": [
      "Number of unique FSPs in the tile: 4\n",
      "Tile FSP extent (fspMinX,fspMaxX,fspMinY,fspMaxY):  (-51363.2057939356, -47973.2057939356, 1792812.9445651, 1794352.9445651)\n",
      "Tile FPP extent (fppMinX,fppMaxX,fppMinY,fppMaxY):  (-43753.2057939356, -39533.2057939356, 1791862.9445651, 1796182.9445651)\n",
      "Processing tile:  18\n",
      "Tile extent (minX, maxX, minY, maxY) : (-43753.2057939356, -38753.2057939356, 1796182.9445651, 1801182.9445651)\n",
      "Number of segments interseting with the tile:  4\n",
      "Total number of FSP-FPP relations in the tile: 119347\n",
      "Saving FSP-FPP relations in a file...\n",
      "Number of unique FSPs in the tile: 3\n",
      "Tile FSP extent (fspMinX,fspMaxX,fspMinY,fspMaxY):  (-50663.2057939356, -47973.2057939356, 1792812.9445651, 1793932.9445651)\n",
      "Tile FPP extent (fppMinX,fppMaxX,fppMinY,fppMaxY):  (-43753.2057939356, -40263.2057939356, 1796182.9445651, 1797842.9445651)\n",
      "Processing tile:  19\n",
      "Tile extent (minX, maxX, minY, maxY) : (-43753.2057939356, -38753.2057939356, 1801182.9445651, 1806182.9445651)\n",
      "Number of segments interseting with the tile:  0\n",
      "Total number of FSP-FPP relations in the tile: 0\n",
      "Save fsp-tile index as a CSV file ...\n",
      "Save tile index as a CSV file ...\n"
     ]
    },
    {
     "name": "stderr",
     "output_type": "stream",
     "text": [
      "c:\\Users\\DanielHo\\.conda\\envs\\fldpln\\Lib\\site-packages\\fldpln\\tile.py:212: FutureWarning: The provided callable <built-in function min> is currently using SeriesGroupBy.min. In a future version of pandas, the provided callable will be used directly. To keep current behavior pass the string \"min\" instead.\n",
      "  fspDf = tdf.groupby(['FspId'], as_index=False).agg(MinDtf = ('Dtf', min),MaxDtf = ('Dtf', max))\n",
      "c:\\Users\\DanielHo\\.conda\\envs\\fldpln\\Lib\\site-packages\\fldpln\\tile.py:212: FutureWarning: The provided callable <built-in function max> is currently using SeriesGroupBy.max. In a future version of pandas, the provided callable will be used directly. To keep current behavior pass the string \"max\" instead.\n",
      "  fspDf = tdf.groupby(['FspId'], as_index=False).agg(MinDtf = ('Dtf', min),MaxDtf = ('Dtf', max))\n"
     ]
    },
    {
     "data": {
      "text/plain": [
       "{'TileSize': 500,\n",
       " 'CellSize': 10,\n",
       " 'SpatialReference': 'PROJCS[\"NAD_1983_Contiguous_USA_Albers\",GEOGCS[\"GCS_North_American_1983\",DATUM[\"D_North_American_1983\",SPHEROID[\"GRS_1980\",6378137.0,298.257222101]],PRIMEM[\"Greenwich\",0.0],UNIT[\"Degree\",0.0174532925199433]],PROJECTION[\"Albers\"],PARAMETER[\"False_Easting\",0.0],PARAMETER[\"False_Northing\",0.0],PARAMETER[\"Central_Meridian\",-96.0],PARAMETER[\"Standard_Parallel_1\",29.5],PARAMETER[\"Standard_Parallel_2\",45.5],PARAMETER[\"Latitude_Of_Origin\",23.0],UNIT[\"Meter\",1.0]]\\n'}"
      ]
     },
     "execution_count": 9,
     "metadata": {},
     "output_type": "execute_result"
    }
   ],
   "source": [
    "# Tile Library(Segment library directory,\n",
    "#              Cell size,\n",
    "#              Output directory\n",
    "#              Tile size,\n",
    "#              Tile file format)\n",
    "\n",
    "TileLibrary('data\\\\tmp\\\\segment-library', 10, 'data\\\\tmp\\\\tile', 500, 'snappy') "
   ]
  },
  {
   "cell_type": "code",
   "execution_count": 2,
   "metadata": {},
   "outputs": [
    {
     "data": {
      "text/plain": [
       "(      FspId          FspX          FspY  SegId  FilledElev        DsDist\n",
       " 0         1 -61658.205794  1.800128e+06      1  342.556946  31350.024510\n",
       " 1         2 -61648.205794  1.800118e+06      1  342.512115  31335.882374\n",
       " 2         3 -61648.205794  1.800108e+06      1  342.512115  31325.882374\n",
       " 3         4 -61638.205794  1.800098e+06      1  342.512115  31311.740239\n",
       " 4         5 -61628.205794  1.800088e+06      1  342.512115  31297.598103\n",
       " ...     ...           ...           ...    ...         ...           ...\n",
       " 2653   2654 -48018.205794  1.792858e+06     16  302.513397     56.568542\n",
       " 2654   2655 -48008.205794  1.792848e+06     16  302.507172     42.426407\n",
       " 2655   2656 -47998.205794  1.792838e+06     16  302.501190     28.284271\n",
       " 2656   2657 -47988.205794  1.792828e+06     16  302.495056     14.142136\n",
       " 2657   2658 -47978.205794  1.792818e+06     16  302.488861      0.000000\n",
       " \n",
       " [2658 rows x 6 columns],\n",
       "     SegId  CellCount  DsSegId    StFac    EdFac       Length        DsDist\n",
       " 0       1         19        2  1474411  1475572   233.847763  31116.176747\n",
       " 1       2        130        3  1637732  1641273  1509.533188  29592.501423\n",
       " 2       3        199        4  1652040  1666443  2365.218613  27217.282810\n",
       " 3       4        265        5  1838599  1895997  3170.193360  24037.089450\n",
       " 4       5        102        6  2027020  2034823  1192.253967  22830.693347\n",
       " 5       6         67        7  2115634  2121725   792.548340  22024.002872\n",
       " 6       7        121        8  2168272  2177010  1436.101731  20573.759005\n",
       " 7       8        139        9  2192614  2195390  1645.096680  18914.520190\n",
       " 8       9        285       10  2206187  2245519  3357.766953  15542.611101\n",
       " 9      10        211       11  2254599  2264266  2402.375901  13126.093065\n",
       " 10     11         73       12  2275256  2276469   823.553391  12288.397539\n",
       " 11     12        305       13  2357454  2393773  3574.335495   8704.062043\n",
       " 12     13        283       14  2423908  2443192  3230.071427   5459.848481\n",
       " 13     14        135       15  2456200  2472319  1580.243866   3865.462479\n",
       " 14     15        259       16  2502799  2517796  3068.772004    786.690476\n",
       " 15     16         65        0  2539699  2540817   776.690476      0.000000)"
      ]
     },
     "execution_count": 2,
     "metadata": {},
     "output_type": "execute_result"
    }
   ],
   "source": [
    "CalculateFspSegmentDownstreamDistance('data\\\\tmp\\\\tile', '')"
   ]
  },
  {
   "cell_type": "code",
   "execution_count": 4,
   "metadata": {},
   "outputs": [
    {
     "data": {
      "text/plain": [
       "(      FspId          FspX          FspY  SegId  FilledElev        DsDist  \\\n",
       " 0         1 -61658.205794  1.800128e+06      1  342.556946  31350.024510   \n",
       " 1         2 -61648.205794  1.800118e+06      1  342.512115  31335.882374   \n",
       " 2         3 -61648.205794  1.800108e+06      1  342.512115  31325.882374   \n",
       " 3         4 -61638.205794  1.800098e+06      1  342.512115  31311.740239   \n",
       " 4         5 -61628.205794  1.800088e+06      1  342.512115  31297.598103   \n",
       " ...     ...           ...           ...    ...         ...           ...   \n",
       " 2653   2654 -48018.205794  1.792858e+06     16  302.513397     56.568542   \n",
       " 2654   2655 -48008.205794  1.792848e+06     16  302.507172     42.426407   \n",
       " 2655   2656 -47998.205794  1.792838e+06     16  302.501190     28.284271   \n",
       " 2656   2657 -47988.205794  1.792828e+06     16  302.495056     14.142136   \n",
       " 2657   2658 -47978.205794  1.792818e+06     16  302.488861      0.000000   \n",
       " \n",
       "       StrOrd  \n",
       " 0          3  \n",
       " 1          3  \n",
       " 2          3  \n",
       " 3          3  \n",
       " 4          3  \n",
       " ...      ...  \n",
       " 2653       3  \n",
       " 2654       3  \n",
       " 2655       3  \n",
       " 2656       3  \n",
       " 2657       3  \n",
       " \n",
       " [2658 rows x 7 columns],\n",
       "     SegId  CellCount  DsSegId    StFac    EdFac       Length        DsDist  \\\n",
       " 0       1         19        2  1474411  1475572   233.847763  31116.176747   \n",
       " 1       2        130        3  1637732  1641273  1509.533188  29592.501423   \n",
       " 2       3        199        4  1652040  1666443  2365.218613  27217.282810   \n",
       " 3       4        265        5  1838599  1895997  3170.193360  24037.089450   \n",
       " 4       5        102        6  2027020  2034823  1192.253967  22830.693347   \n",
       " 5       6         67        7  2115634  2121725   792.548340  22024.002872   \n",
       " 6       7        121        8  2168272  2177010  1436.101731  20573.759005   \n",
       " 7       8        139        9  2192614  2195390  1645.096680  18914.520190   \n",
       " 8       9        285       10  2206187  2245519  3357.766953  15542.611101   \n",
       " 9      10        211       11  2254599  2264266  2402.375901  13126.093065   \n",
       " 10     11         73       12  2275256  2276469   823.553391  12288.397539   \n",
       " 11     12        305       13  2357454  2393773  3574.335495   8704.062043   \n",
       " 12     13        283       14  2423908  2443192  3230.071427   5459.848481   \n",
       " 13     14        135       15  2456200  2472319  1580.243866   3865.462479   \n",
       " 14     15        259       16  2502799  2517796  3068.772004    786.690476   \n",
       " 15     16         65        0  2539699  2540817   776.690476      0.000000   \n",
       " \n",
       "     StrOrd  \n",
       " 0        3  \n",
       " 1        3  \n",
       " 2        3  \n",
       " 3        3  \n",
       " 4        3  \n",
       " 5        3  \n",
       " 6        3  \n",
       " 7        3  \n",
       " 8        3  \n",
       " 9        3  \n",
       " 10       3  \n",
       " 11       3  \n",
       " 12       3  \n",
       " 13       3  \n",
       " 14       3  \n",
       " 15       3  ,\n",
       "   StrOrd DsStrOrd JunctionFspX JunctionFspY\n",
       " 0      3        0            0            0)"
      ]
     },
     "execution_count": 4,
     "metadata": {},
     "output_type": "execute_result"
    }
   ],
   "source": [
    "GetStreamOrdersForFspsSegments('data\\\\tmp\\\\tile', 'data\\\\tmp\\\\segment\\\\segment_simple_ord4map.shp', 'segid', 'snetstrord')"
   ]
  },
  {
   "cell_type": "code",
   "execution_count": 2,
   "metadata": {},
   "outputs": [],
   "source": [
    "from pyproj import CRS\n",
    "\n",
    "with open('data\\\\tmp\\\\tile\\\\TileCellSizeSpatialReference.json','r') as jf:\n",
    "    md = json.load(jf)\n",
    "\n",
    "GenerateSegmentShapefilesFromFspSegmentInfoFiles('data\\\\tmp\\\\tile\\\\segment_info.csv', 'data\\\\tmp\\\\tile\\\\fsp_info.csv', CRS.from_wkt(md['SpatialReference']), 'data\\\\tmp\\\\segment\\\\segment_info.shp')"
   ]
  }
 ],
 "metadata": {
  "kernelspec": {
   "display_name": "fldpln",
   "language": "python",
   "name": "python3"
  },
  "language_info": {
   "codemirror_mode": {
    "name": "ipython",
    "version": 3
   },
   "file_extension": ".py",
   "mimetype": "text/x-python",
   "name": "python",
   "nbconvert_exporter": "python",
   "pygments_lexer": "ipython3",
   "version": "3.11.9"
  }
 },
 "nbformat": 4,
 "nbformat_minor": 2
}
