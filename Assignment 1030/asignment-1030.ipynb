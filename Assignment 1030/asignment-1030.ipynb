{
 "cells": [
  {
   "cell_type": "code",
   "execution_count": 1,
   "metadata": {},
   "outputs": [
    {
     "name": "stdout",
     "output_type": "stream",
     "text": [
      "[array([[11.42175366, 27.25203367, 32.5735557 , ...,  8.13010235,\n",
      "         8.13010235, 11.42175366],\n",
      "       [27.25203367, 38.94244127, 35.53767779, ..., 11.42175366,\n",
      "        11.42175366, 15.9453959 ],\n",
      "       [27.25203367, 31.21969845, 31.21969845, ...,  8.13010235,\n",
      "        15.9453959 , 15.9453959 ],\n",
      "       ...,\n",
      "       [ 0.        ,  0.        ,  0.        , ...,  0.        ,\n",
      "         0.        ,  0.        ],\n",
      "       [ 0.        ,  0.        ,  0.        , ...,  0.        ,\n",
      "         0.        ,  0.        ],\n",
      "       [ 0.        ,  0.        ,  0.        , ...,  0.        ,\n",
      "         0.        ,  0.        ]]), array([[14.6388066 , 27.91778359, 32.5735557 , ...,  6.23982645,\n",
      "         9.40079003,  8.13010235],\n",
      "       [27.91778359, 34.5969529 , 35.31160751, ...,  8.78988747,\n",
      "        11.88819991, 13.89788625],\n",
      "       [27.25203367, 33.73861902, 33.73861902, ..., 10.72363245,\n",
      "        13.89788625, 15.9453959 ],\n",
      "       ...,\n",
      "       [ 0.        ,  0.        ,  0.        , ...,  0.        ,\n",
      "         0.        ,  0.        ],\n",
      "       [ 0.        ,  0.        ,  0.        , ...,  0.        ,\n",
      "         0.        ,  0.        ],\n",
      "       [ 0.        ,  0.        ,  0.        , ...,  0.        ,\n",
      "         0.        ,  0.        ]]), array([[15.07614039, 28.0307094 , 32.5735557 , ...,  6.07792062,\n",
      "         9.74229144,  7.67083478],\n",
      "       [28.0307094 , 33.95770549, 35.29498379, ...,  8.56352368,\n",
      "        12.02205153, 13.64789297],\n",
      "       [27.25203367, 34.0898993 , 34.0898993 , ..., 11.10806391,\n",
      "        13.64789297, 15.9453959 ],\n",
      "       ...,\n",
      "       [ 0.        ,  0.        ,  0.        , ...,  0.        ,\n",
      "         0.        ,  0.        ],\n",
      "       [ 0.        ,  0.        ,  0.        , ...,  0.        ,\n",
      "         0.        ,  0.        ],\n",
      "       [ 0.        ,  0.        ,  0.        , ...,  0.        ,\n",
      "         0.        ,  0.        ]]), array([[14.17303162, 27.80335881, 32.5735557 , ...,  6.44359503,\n",
      "         9.07458589,  8.61608115],\n",
      "       [27.80335881, 35.26438968, 35.33314536, ...,  9.07458589,\n",
      "        11.76361848, 14.17303162],\n",
      "       [27.25203367, 33.3664581 , 33.3664581 , ..., 10.32091075,\n",
      "        14.17303162, 15.9453959 ],\n",
      "       ...,\n",
      "       [ 0.        ,  0.        ,  0.        , ...,  0.        ,\n",
      "         0.        ,  0.        ],\n",
      "       [ 0.        ,  0.        ,  0.        , ...,  0.        ,\n",
      "         0.        ,  0.        ],\n",
      "       [ 0.        ,  0.        ,  0.        , ...,  0.        ,\n",
      "         0.        ,  0.        ]]), array([[16.85921008, 28.5454742 , 32.5735557 , ...,  5.76818119,\n",
      "        11.42175366,  5.76818119],\n",
      "       [28.5454742 , 31.21969845, 35.26438968, ...,  8.13010235,\n",
      "        12.72820033, 12.72820033],\n",
      "       [27.25203367, 35.53767779, 35.53767779, ..., 12.72820033,\n",
      "        12.72820033, 15.9453959 ],\n",
      "       ...,\n",
      "       [ 0.        ,  0.        ,  0.        , ...,  0.        ,\n",
      "         0.        ,  0.        ],\n",
      "       [ 0.        ,  0.        ,  0.        , ...,  0.        ,\n",
      "         0.        ,  0.        ],\n",
      "       [ 0.        ,  0.        ,  0.        , ...,  0.        ,\n",
      "         0.        ,  0.        ]]), array([[31.21969845, 38.94244127, 38.94244127, ..., 15.9453959 ,\n",
      "        15.9453959 , 15.9453959 ],\n",
      "       [38.94244127, 31.21969845, 38.94244127, ..., 15.9453959 ,\n",
      "        15.9453959 , 15.9453959 ],\n",
      "       [31.21969845, 38.94244127, 38.94244127, ..., 15.9453959 ,\n",
      "        15.9453959 , 15.9453959 ],\n",
      "       ...,\n",
      "       [ 0.        ,  0.        ,  0.        , ...,  0.        ,\n",
      "         0.        ,  0.        ],\n",
      "       [ 0.        ,  0.        ,  0.        , ...,  0.        ,\n",
      "         0.        ,  0.        ],\n",
      "       [ 0.        ,  0.        ,  0.        , ...,  0.        ,\n",
      "         0.        ,  0.        ]]), array([[22.00171367, 38.94244127, 38.94244127, ..., 15.9453959 ,\n",
      "        15.9453959 , 15.9453959 ],\n",
      "       [38.94244127, 38.94244127, 32.5735557 , ..., 15.9453959 ,\n",
      "        15.9453959 , 15.9453959 ],\n",
      "       [32.5735557 , 22.00171367, 38.94244127, ..., 15.9453959 ,\n",
      "        15.9453959 , 15.9453959 ],\n",
      "       ...,\n",
      "       [ 0.        ,  0.        ,  0.        , ...,  0.        ,\n",
      "         0.        ,  0.        ],\n",
      "       [ 0.        ,  0.        ,  0.        , ...,  0.        ,\n",
      "         0.        ,  0.        ],\n",
      "       [ 0.        ,  0.        ,  0.        , ...,  0.        ,\n",
      "         0.        ,  0.        ]])]\n"
     ]
    }
   ],
   "source": [
    "import matplotlib.pyplot as plt\n",
    "import sloper\n",
    "\n",
    "dataset = sloper.Dataset('..\\src\\sample.tif')\n",
    "slope_list = []\n",
    "\n",
    "for i in range(7):\n",
    "    slope_list.append(dataset.slope(i, format = 'degree'))\n",
    "\n",
    "print(slope_list)"
   ]
  },
  {
   "cell_type": "code",
   "execution_count": 2,
   "metadata": {},
   "outputs": [
    {
     "data": {
      "image/png": "[encoded data removed]",
      "text/plain": [
       "<Figure size 640x480 with 1 Axes>"
      ]
     },
     "metadata": {},
     "output_type": "display_data"
    }
   ],
   "source": [
    "flatten_slope = [x.flatten() for x in slope_list]\n",
    "\n",
    "fix, ax = plt.subplots()\n",
    "ax.boxplot(flatten_slope, positions = range(7), widths = 0.4, showfliers = False, vert = False)\n",
    "ax.set(yticks = range(7), yticklabels = ['2FD', '3FDWRD', '3FD', '3FDWRSD', 'FFD', 'Max-Max', 'Simple-D'])\n",
    "ax.set(xlabel = 'Slope in Degree', ylabel = 'Method types')\n",
    "\n",
    "plt.show()"
   ]
  },
  {
   "cell_type": "markdown",
   "metadata": {},
   "source": [
    "## Fill NaNs\n",
    "\n",
    "See `sloper.Utils.fill_na()`."
   ]
  },
  {
   "cell_type": "code",
   "execution_count": 3,
   "metadata": {},
   "outputs": [
    {
     "name": "stdout",
     "output_type": "stream",
     "text": [
      "Original DEM:\n",
      "[[ 0.  1.  5.  2.]\n",
      " [nan  3.  4. nan]\n",
      " [nan nan  2.  3.]\n",
      " [nan nan  1.  4.]]\n",
      "\n",
      "Neighbor non-NaN counts:\n",
      "[[2 4 4 2]\n",
      " [3 5 6 5]\n",
      " [1 4 5 4]\n",
      " [0 2 3 3]]\n",
      "\n",
      "Neighbor summation:\n",
      "[[ 4. 12. 10.  9.]\n",
      " [ 4. 12. 16. 16.]\n",
      " [ 3. 10. 15. 11.]\n",
      " [ 0.  3.  9.  6.]]\n",
      "\n",
      "Valid mask:\n",
      "[[False False False False]\n",
      " [ True False False  True]\n",
      " [False  True False False]\n",
      " [False  True False False]]\n",
      "\n",
      "New DEM:\n",
      "[[0.         1.         5.         2.        ]\n",
      " [1.33333333 3.         4.         3.2       ]\n",
      " [       nan 2.5        2.         3.        ]\n",
      " [       nan 1.5        1.         4.        ]]\n"
     ]
    }
   ],
   "source": [
    "import numpy as np\n",
    "from scipy import ndimage\n",
    "\n",
    "def fill_nan_demo():\n",
    "    dem = np.array([[0, 1, 5, 2], [np.nan, 3, 4, np.nan], [np.nan, np.nan, 2, 3], [np.nan ,np.nan, 1, 4]])\n",
    "    new_dem = dem.copy()\n",
    "    print('Original DEM:')\n",
    "    print(dem, end = '\\n\\n')\n",
    "\n",
    "    win = np.array([[1, 1, 1], [1, 0, 1], [1, 1, 1]])\n",
    "\n",
    "    non_nan_neighbor = ndimage.convolve(1 - np.isnan(dem).astype(int), win, mode = 'constant')\n",
    "    print('Neighbor non-NaN counts:')\n",
    "    print(non_nan_neighbor, end = '\\n\\n')\n",
    "\n",
    "    summation = ndimage.convolve(np.nan_to_num(dem), win, mode = 'constant')\n",
    "    print('Neighbor summation:')\n",
    "    print(summation, end = '\\n\\n')\n",
    "\n",
    "    valid_mask = np.isnan(dem) & (non_nan_neighbor > 1)\n",
    "    print('Valid mask:')\n",
    "    print(valid_mask, end = '\\n\\n')\n",
    "\n",
    "    with np.errstate(divide = 'ignore', invalid = 'ignore'):\n",
    "        # Ignore divide by 0 and nan warnings\n",
    "        np.putmask(new_dem, valid_mask, summation / non_nan_neighbor)\n",
    "    print('New DEM:')\n",
    "    print(new_dem)\n",
    "\n",
    "fill_nan_demo()"
   ]
  }
 ],
 "metadata": {
  "kernelspec": {
   "display_name": "tahm",
   "language": "python",
   "name": "python3"
  },
  "language_info": {
   "codemirror_mode": {
    "name": "ipython",
    "version": 3
   },
   "file_extension": ".py",
   "mimetype": "text/x-python",
   "name": "python",
   "nbconvert_exporter": "python",
   "pygments_lexer": "ipython3",
   "version": "3.11.9"
  }
 },
 "nbformat": 4,
 "nbformat_minor": 2
}
