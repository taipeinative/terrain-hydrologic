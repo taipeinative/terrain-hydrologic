{
 "cells": [
  {
   "cell_type": "markdown",
   "metadata": {},
   "source": [
    "# Rasterio Test\n",
    "\n",
    "A simple Rasterio tutorial taken from [official manual](https://rasterio.readthedocs.io/en/stable/index.html) website. You can use them to check your Rasterio conditions and learn basic usages."
   ]
  },
  {
   "cell_type": "markdown",
   "metadata": {},
   "source": [
    "## Introduction\n",
    "\n",
    "In Rasterio, use `rasterio.open()` to access the dataset."
   ]
  },
  {
   "cell_type": "code",
   "execution_count": 1,
   "metadata": {},
   "outputs": [
    {
     "name": "stdout",
     "output_type": "stream",
     "text": [
      "Dataset object:      <open DatasetReader name='src\\Sample.tif' mode='r'>\n",
      "Dataset name:        src\\Sample.tif\n",
      "Dataset driver:      GTiff\n",
      "Driver  mode:        r\n",
      "Dataset status:      Open\n",
      "---\n",
      "Dataset band count:  1\n",
      "Dataset size:        [4096, 4096]\n",
      "Dataset projection:  EPSG:32651\n",
      "Dataset bounds:      ↑ 2777339.297249403, ↓ 2763003.297249403, ← 345541.25570472557, → 359877.25570472557\n",
      "Dataset data type:   int16\n",
      "Dataset compression: None\n",
      "Dataset unit name:   None\n",
      "Dataset statistics:  Statistics(min=305.0, max=1046.0, mean=611.37908899771, std=172.84631974915)\n",
      "Dataset nodata val:  -32768.0\n",
      "Dataset tags:        {'TIFFTAG_SOFTWARE': 'CartoMod', 'TIFFTAG_DATETIME': '2024:08:23 11:56:28', 'AREA_OR_POINT': 'Area'}\n",
      "Dataset metadata:    {'driver': 'GTiff', 'dtype': 'int16', 'nodata': -32768.0, 'width': 4096, 'height': 4096, 'count': 1, 'crs': CRS.from_epsg(32651), 'transform': Affine(3.5, 0.0, 345541.25570472557,\n",
      "       0.0, -3.5, 2777339.297249403)}\n"
     ]
    }
   ],
   "source": [
    "import rasterio\n",
    "\n",
    "with rasterio.open('src\\Sample.tif') as d0:\n",
    "\n",
    "    # The file name of the DatasetReader\n",
    "    d0_name = d0.name\n",
    "\n",
    "    # Get the driver that opens the file\n",
    "    d0_driver = d0.driver\n",
    "\n",
    "    # Get the mode that driver opened the file\n",
    "    d0_mode = d0.mode\n",
    "\n",
    "    # Get the status of the DatasetReader\n",
    "    d0_status = 'Closed' if d0.closed else 'Open'\n",
    "\n",
    "    # Get the number of raster bands in the DatasetReader\n",
    "    d0_band_count = d0.count\n",
    "\n",
    "    # Get the size of the DatasetReader in x and y dimensions\n",
    "    d0_size = [d0.width, d0.height]\n",
    "\n",
    "    # Get the projection of the DatasetReader\n",
    "    d0_projection = d0.crs\n",
    "\n",
    "    # Get the `rasterio.coords.BoundingBox` object of the DatasetReader\n",
    "    d0_bounds = f'↑ {d0.bounds.top}, ↓ {d0.bounds.bottom}, ← {d0.bounds.left}, → {d0.bounds.right}'\n",
    "\n",
    "    # Get the data type of the DatasetReader\n",
    "    d0_type = d0.dtypes[0]\n",
    "\n",
    "    # Get the compression of the DatasetReader\n",
    "    d0_compression = f'{d0.compression}'\n",
    "\n",
    "    # Get the unit name of the DatasetReader\n",
    "    d0_unit = f'{d0.units[0]}'\n",
    "\n",
    "    # Get the statistics of the DatasetReader; note that the band index is 1-indexed.\n",
    "    d0_statistics = d0.statistics(1)\n",
    "\n",
    "    # Get the designated nodata value of the DatasetReader\n",
    "    d0_nodata = d0.nodatavals[0]\n",
    "\n",
    "    # Get the metadata tags from the DatasetReader\n",
    "    d0_tag = d0.tags()\n",
    "\n",
    "    # Get the metadata from the DatasetReader\n",
    "    d0_meta = d0.meta\n",
    "\n",
    "    d0_obj = f'{d0}'\n",
    "\n",
    "# Print the results\n",
    "print(f'Dataset object:      {d0_obj}')\n",
    "print(f'Dataset name:        {d0_name}')\n",
    "print(f'Dataset driver:      {d0_driver}')\n",
    "print(f'Driver  mode:        {d0_mode}')\n",
    "print(f'Dataset status:      {d0_status}')\n",
    "print('---')\n",
    "print(f'Dataset band count:  {d0_band_count}')\n",
    "print(f'Dataset size:        {d0_size}')\n",
    "print(f'Dataset projection:  {d0_projection}')\n",
    "print(f'Dataset bounds:      {d0_bounds}')\n",
    "print(f'Dataset data type:   {d0_type}')\n",
    "print(f'Dataset compression: {d0_compression}')\n",
    "print(f'Dataset unit name:   {d0_unit}')\n",
    "print(f'Dataset statistics:  {d0_statistics}')\n",
    "print(f'Dataset nodata val:  {d0_nodata}')\n",
    "print(f'Dataset tags:        {d0_tag}')\n",
    "print(f'Dataset metadata:    {d0_meta}')"
   ]
  }
 ],
 "metadata": {
  "kernelspec": {
   "display_name": "tahm",
   "language": "python",
   "name": "python3"
  },
  "language_info": {
   "codemirror_mode": {
    "name": "ipython",
    "version": 3
   },
   "file_extension": ".py",
   "mimetype": "text/x-python",
   "name": "python",
   "nbconvert_exporter": "python",
   "pygments_lexer": "ipython3",
   "version": "3.11.9"
  }
 },
 "nbformat": 4,
 "nbformat_minor": 2
}
